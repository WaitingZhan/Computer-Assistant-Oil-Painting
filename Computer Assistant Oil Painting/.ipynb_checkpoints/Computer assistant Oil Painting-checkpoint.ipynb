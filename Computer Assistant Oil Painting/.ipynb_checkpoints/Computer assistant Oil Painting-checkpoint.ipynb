{
 "cells": [
  {
   "cell_type": "code",
   "execution_count": 139,
   "metadata": {},
   "outputs": [],
   "source": [
    "import cv2\n",
    "import numpy as np\n"
   ]
  },
  {
   "cell_type": "code",
   "execution_count": 140,
   "metadata": {},
   "outputs": [],
   "source": [
    "image = cv2.imread('./image/weitingpink.jpg')"
   ]
  },
  {
   "cell_type": "code",
   "execution_count": 141,
   "metadata": {},
   "outputs": [],
   "source": [
    "height, width = image.shape[:2]"
   ]
  },
  {
   "cell_type": "code",
   "execution_count": 142,
   "metadata": {},
   "outputs": [
    {
     "name": "stdout",
     "output_type": "stream",
     "text": [
      "1079 1441\n"
     ]
    }
   ],
   "source": [
    "print(width,height)"
   ]
  },
  {
   "cell_type": "code",
   "execution_count": 143,
   "metadata": {},
   "outputs": [],
   "source": [
    "B, G, R = cv2.split(image)\n",
    "\n",
    "#print (B.shape)\n",
    "#cv2.imshow(\"Red\", R)\n",
    "#cv2.imshow(\"Green\", G)\n",
    "#cv2.imshow(\"Blue\", B)\n",
    " \n",
    "\n",
    "# Let's re-make the original image, \n",
    "merged = cv2.merge([B, G, R]) \n",
    "cv2.imshow(\"Merged\", merged) \n",
    "\n",
    "count = 0\n",
    "list_im =[]\n",
    "# Let's amplify the blue color\n",
    "for i in range(20,200,40):\n",
    "    merged = cv2.merge([B, G, R+i])\n",
    "# save images in loop with different names,concatenate the i variable to a string as follows:\n",
    "    #cv2.imshow(\"Merged with Blue Amplified\", merged) \n",
    "    cv2.imwrite(\"./image/ballet_Red\"+str(i/100)+\".jpg\",merged)\n",
    "    merged = cv2.merge([B+i, G, R])\n",
    "    cv2.imwrite(\"./image/ballet_Blue\"+str(i/100)+\".jpg\",merged)\n",
    "    merged = cv2.merge([B, G+i, R])\n",
    "    cv2.imwrite(\"./image/ballet_Green\"+str(i/100)+\".jpg\",merged)\n",
    "    #cv2.waitKey(0)\n",
    "\n",
    "\n",
    "    \n"
   ]
  },
  {
   "cell_type": "code",
   "execution_count": 144,
   "metadata": {},
   "outputs": [],
   "source": [
    "import sys\n",
    "import PIL\n",
    "from PIL import Image\n",
    "import os\n",
    "dirListing = os.listdir('./image/')\n",
    "list_im_red =[]\n",
    "list_im_blue =[]\n",
    "list_im_green =[]\n",
    "for item in dirListing:\n",
    "    if \"Red\" in item:\n",
    "        list_im_red.append('./image/'+item)\n",
    "    if \"Green\" in item:\n",
    "        list_im_green.append('./image/'+item)\n",
    "    if \"Blue\" in item:\n",
    "        list_im_blue.append('./image/'+item)\n",
    "\n",
    "\n",
    "imageR = map(Image.open,list_im_red)\n",
    "imageG = map(Image.open,list_im_green)\n",
    "imageB = map(Image.open,list_im_blue)\n"
   ]
  },
  {
   "cell_type": "code",
   "execution_count": 145,
   "metadata": {},
   "outputs": [
    {
     "name": "stdout",
     "output_type": "stream",
     "text": [
      "['./image/ballet_Red0.2.jpg', './image/ballet_Red0.6.jpg', './image/ballet_Red1.0.jpg', './image/ballet_Red1.4.jpg', './image/ballet_Red1.8.jpg']\n",
      "['./image/ballet_Blue0.2.jpg', './image/ballet_Blue0.6.jpg', './image/ballet_Blue1.0.jpg', './image/ballet_Blue1.4.jpg', './image/ballet_Blue1.8.jpg']\n",
      "['./image/ballet_Green0.2.jpg', './image/ballet_Green0.6.jpg', './image/ballet_Green1.0.jpg', './image/ballet_Green1.4.jpg', './image/ballet_Green1.8.jpg']\n"
     ]
    }
   ],
   "source": [
    "print(list_im_red)\n",
    "print(list_im_blue)\n",
    "print(list_im_green)"
   ]
  },
  {
   "cell_type": "code",
   "execution_count": 146,
   "metadata": {},
   "outputs": [],
   "source": [
    "new_imR = Image.new('RGB',(4500,600))\n",
    "new_imG = Image.new('RGB',(4500,600))\n",
    "new_imB = Image.new('RGB',(4500,600))"
   ]
  },
  {
   "cell_type": "code",
   "execution_count": 147,
   "metadata": {},
   "outputs": [],
   "source": [
    "imgs =[PIL.Image.open(i) for i in list_im_red]\n",
    "# pick the image which is the smallest, and resize the others to match it (can be arbitrary image shape here)\n",
    "\n",
    "min_shape = sorted( [(np.sum(i.size), i.size ) for i in imgs])[0][1]\n",
    "imgs_combR = np.hstack( (np.asarray( i.resize(min_shape) ) for i in imgs ) )\n",
    "new_imR = PIL.Image.fromarray(imgs_combR)\n",
    "new_imR.show()\n",
    "new_imR.save('./image/RedVersion.jpg')"
   ]
  },
  {
   "cell_type": "code",
   "execution_count": 148,
   "metadata": {},
   "outputs": [],
   "source": [
    "imgsG =[PIL.Image.open(i) for i in list_im_green]\n",
    "min_shape = sorted( [(np.sum(i.size), i.size ) for i in imgsG])[0][1]\n",
    "imgs_combG = np.hstack( (np.asarray( i.resize(min_shape) ) for i in imgsG ) )\n",
    "new_imG = PIL.Image.fromarray(imgs_combG)\n",
    "new_imG.show()\n",
    "new_imG.save('./image/GreenVersion.jpg')"
   ]
  },
  {
   "cell_type": "code",
   "execution_count": 149,
   "metadata": {},
   "outputs": [],
   "source": [
    "imgsB =[PIL.Image.open(i) for i in list_im_blue]\n",
    "min_shape = sorted( [(np.sum(i.size), i.size ) for i in imgsB])[0][1]\n",
    "imgs_combB = np.hstack( (np.asarray( i.resize(min_shape) ) for i in imgsB) )\n",
    "new_imB = PIL.Image.fromarray(imgs_combB)\n",
    "new_imB.show()\n",
    "new_imB.save('./image/BlueVersion.jpg')"
   ]
  },
  {
   "cell_type": "code",
   "execution_count": 150,
   "metadata": {},
   "outputs": [],
   "source": [
    "#list of Red Version, Green Version, Blue Version\n",
    "\n",
    "dirListing = os.listdir('./image/')\n",
    "list_im_RGB =[]\n",
    "for item in dirListing:\n",
    "    if \"Version\" in item:\n",
    "        list_im_RGB.append('./image/'+item)\n",
    "imageRGB = map(Image.open,list_im_RGB)\n",
    "new_imRGB = Image.new('RGB',(4500,1800))\n"
   ]
  },
  {
   "cell_type": "code",
   "execution_count": 151,
   "metadata": {},
   "outputs": [],
   "source": [
    "imgsRGB = [ PIL.Image.open(i) for i in list_im_RGB ]\n",
    "# pick the image which is the smallest, and resize the others to match it (can be arbitrary image shape here)\n",
    "min_shape = sorted( [(np.sum(i.size), i.size ) for i in imgsRGB])[0][1]\n",
    "imgs_comb = np.hstack( (np.asarray( i.resize(min_shape) ) for i in imgsRGB ) )\n",
    "\n",
    "# for a vertical stacking it is simple: use vstack\n",
    "imgs_comb = np.vstack( (np.asarray( i.resize(min_shape) ) for i in imgsRGB ) )\n",
    "imgs_comb = PIL.Image.fromarray( imgs_comb)\n",
    "imgs_comb.save( './image/Whole.jpg' )\n",
    "\n",
    "imgs_comb.show()"
   ]
  }
 ],
 "metadata": {
  "kernelspec": {
   "display_name": "Python 3",
   "language": "python",
   "name": "python3"
  },
  "language_info": {
   "codemirror_mode": {
    "name": "ipython",
    "version": 3
   },
   "file_extension": ".py",
   "mimetype": "text/x-python",
   "name": "python",
   "nbconvert_exporter": "python",
   "pygments_lexer": "ipython3",
   "version": "3.6.5"
  }
 },
 "nbformat": 4,
 "nbformat_minor": 2
}
